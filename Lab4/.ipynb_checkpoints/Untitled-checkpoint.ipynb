{
 "cells": [
  {
   "cell_type": "code",
   "execution_count": 10,
   "id": "c7c661e3",
   "metadata": {},
   "outputs": [
    {
     "data": {
      "text/plain": [
       "[[0, 0], [2, 1], [3, 2]]"
      ]
     },
     "execution_count": 10,
     "metadata": {},
     "output_type": "execute_result"
    }
   ],
   "source": [
    "with open(\"test.txt\", \"r\") as file: \n",
    "    m = int(file.readline())\n",
    "    line = file.readline()\n",
    "#     print(m)\n",
    "    pos = list(map(lambda el: list(map(int,el[1:-1].split(\",\"))),line.split(\" \")))\n",
    "pos"
   ]
  },
  {
   "cell_type": "code",
   "execution_count": 22,
   "id": "1db8340f",
   "metadata": {},
   "outputs": [],
   "source": [
    "import numpy as np\n",
    "\n",
    "def attacked_queens_pairs(seqs):\n",
    "    \"\"\"\n",
    "    Calculate the queen logarithm of the attack on the chessboard corresponding to the sequence n]\n",
    "    We only need to check whether there are other queens on the eight queens of the current chessboard in their respective rows and two diagonals, without judging whether there are other queens in the same column\n",
    "    \"\"\"\n",
    "    a = np.array([0] * 81)  # Create a one-dimensional array with 81 zeros\n",
    "    a = a.reshape(9, 9)  # Change to 9 * 9 two-dimensional array. For the convenience of later use, only the 8 * 8 parts of the last eight rows and columns are used as a blank chessboard\n",
    "    n = 0  # The number of queens attacking each other is initialized to 0\n",
    "\n",
    "    for i in range(1, 9):\n",
    "        if seqs[i-1] != 0: # An element of seqs is 0, which means that no queen should be placed in the corresponding chessboard column\n",
    "            a[seqs[i - 1]][i] = 1  # Generate the corresponding chessboard sequence, and place it in the order of the first chessboard column\n",
    "\n",
    "    for i in range(1, 9):\n",
    "        if seqs[i - 1] == 0:\n",
    "            continue # If an element of seqs is 0, it represents the corresponding chessboard. If no queen is placed in this column, the next column will be judged directly\n",
    "        for k in list(range(1, i)) + list(range(i + 1, 9)):  # Check whether there are other queens on each queen's line\n",
    "            if a[seqs[i - 1]][k] == 1:  # There are other queens\n",
    "                n += 1\n",
    "        t1 = t2 = seqs[i - 1]\n",
    "        for j in range(i - 1, 0, -1):  # Look at the two diagonals in the left half\n",
    "            if t1 != 1:\n",
    "                t1 -= 1\n",
    "                if a[t1][j] == 1:\n",
    "                    n += 1  # There are other queens on the left half of the diagonal\n",
    "\n",
    "            if t2 != 8:\n",
    "                t2 += 1\n",
    "                if a[t2][j] == 1:\n",
    "                    n += 1  # There are other queens on the left half of the sub diagonal\n",
    "\n",
    "        t1 = t2 = seqs[i - 1]\n",
    "        for j in range(i + 1, 9):  # Look at the two diagonals in the right half\n",
    "            if t1 != 1:\n",
    "                t1 -= 1\n",
    "                if a[t1][j] == 1:\n",
    "                    n += 1  # There are other queens on the right half of the diagonal\n",
    "\n",
    "            if t2 != 8:\n",
    "                t2 += 1\n",
    "                if a[t2][j] == 1:\n",
    "                    n += 1  # There are other queens on the right half of the sub diagonal\n",
    "    return int(n/2)  # Returns n/2, because A attacking B also means B attacking A, so returns half of n\n",
    "\n",
    "def display_board(seqs):\n",
    "    \"\"\"\n",
    "     Displays the chessboard corresponding to the sequence\n",
    "    \"\"\"\n",
    "    board = np.array([0] * 81)  # Create a one-dimensional array with 81 zeros\n",
    "    board = board.reshape(9, 9)  # Change to a 9 * 9 two-dimensional array. For the convenience of later use, only the 8 * 8 parts of the last eight rows and columns are used as a blank chessboard\n",
    "\n",
    "    for i in range(1, 9):\n",
    "        board[seqs[i - 1]][i] = 1  # According to the sequence, from the first column to the last column, put a queen in the corresponding position to generate the chessboard corresponding to the current sequence\n",
    "    print('The corresponding chessboard is as follows:')\n",
    "    for i in board[1:]:\n",
    "        for j in i[1:]:\n",
    "            print(j, ' ', end=\"\")  # With end, print doesn't wrap\n",
    "        print()  # After outputting one line, wrap it. This cannot be print('\\n'), otherwise it will be replaced by two lines\n",
    "    print('The number of queens to attack is' + str(attacked_queens_pairs(seqs)))\n"
   ]
  },
  {
   "cell_type": "code",
   "execution_count": 23,
   "id": "907c1488",
   "metadata": {},
   "outputs": [],
   "source": [
    "horizontal = [0,0,0,1,0,1,0,1]\n",
    "vertical= [1,0,0,0,0,0,1,0]\n",
    "diagonal_main = [0,0,0,0,0,0,0,0,0,0,0,0,0,1,0,0]\n",
    "diagonal_sub = [0,0,0,0,0,0,1,0,0,0,0,0,0,0,0,0]"
   ]
  },
  {
   "cell_type": "code",
   "execution_count": null,
   "id": "01c7ae59",
   "metadata": {},
   "outputs": [],
   "source": [
    "import random\n",
    "import time\n",
    "\n",
    "\n",
    "\n",
    "def solve(unplaced_queens, queens_pos):\n",
    "    start = time.time()\n",
    "    \n",
    "    #init\n",
    "    rows = [0] * 8\n",
    "    cols = [0] * 8\n",
    "    \n",
    "#   avail rows\n",
    "    for pos in queens_pos: \n",
    "        rows[pos[0]] = 1\n",
    "    avail_row_idx = [i  for i in range(len(rows)) if rows[i] == 0]\n",
    "    # The initial state is 8 zeros, which means that there are no queens on the chessboard; \n",
    "    # g(n) = the number of queens that have not been placed well, \n",
    "    # h(n) = the logarithm of queens attacking each other, and h(n)=28, g(n)=8\n",
    "    # unplaced_queens = 8-n, pairs= 8C2, g(n)= 8-n\n",
    "    frontier_priority_queue = [{'unplaced_queens':unplaced_queens, 'pairs':28, 'seqs':[0] * 8}] \n",
    "    solution = []\n",
    "    flag = 0 # The representative has not found a solution\n",
    "\n",
    "    while frontier_priority_queue: \n",
    "        # If the frontier is not empty, the loop will continue. \n",
    "    #     If the solution is found successfully, the loop will output the solution. If the frontier is empty, the loop will fail\n",
    "        first = frontier_priority_queue.pop(0)  # Since frontier s are sorted every time, the first sequence is extended\n",
    "        if first['pairs'] == 0 and first['unplaced_queens'] == 0: # Do the goal test before extending the node: if the sequence h(n)=g(n)=0, then the sequence is the solution sequence\n",
    "            solution = first['seqs']\n",
    "            flag = 1  # success\n",
    "            break\n",
    "    #   sửa lại nums \n",
    "#         nums = list(random.choice(rows))  # List with elements 1-8\n",
    "        seqs = first['seqs']\n",
    "        for j in range(8):\n",
    "            # In the first position of 0 in the sequence, that is,\n",
    "    #       the leftmost column without queen, select a row to place queen\n",
    "            pos = seqs.index(0) #0\n",
    "            temp_seqs = list(seqs) \n",
    "            temp = random.choice(avail_row_idx)  # Select a random row in the column to place the queen\n",
    "            temp_seqs[pos] = temp # Place the queen on line temp of the column\n",
    "            frontier_priority_queue.append({'unplaced_queens':temp_seqs.count(0), 'pairs':attacked_queens_pairs(temp_seqs),'seqs':temp_seqs})\n",
    "            # First, the sequences are sorted in the order of h(n) from small to large; \n",
    "    #         if h(n) is the same, the sequences are sorted in the order of g(n) from small to large\n",
    "        frontier_priority_queue = sorted(frontier_priority_queue, key=lambda x:(x['pairs'], x['unplaced_queens'])) \n",
    "\n",
    "    if solution:\n",
    "        print('Solution sequence found:' + str(solution))\n",
    "        display_board(solution)\n",
    "    else:\n",
    "        print('Algorithm failed, no solution found')\n",
    "\n",
    "    end = time.time()\n",
    "    print('Time' + str('%.2f' % (end-start)) + 's')\n"
   ]
  },
  {
   "cell_type": "code",
   "execution_count": 25,
   "id": "5248592f",
   "metadata": {},
   "outputs": [
    {
     "ename": "KeyboardInterrupt",
     "evalue": "",
     "output_type": "error",
     "traceback": [
      "\u001b[1;31m---------------------------------------------------------------------------\u001b[0m",
      "\u001b[1;31mKeyboardInterrupt\u001b[0m                         Traceback (most recent call last)",
      "\u001b[1;32m~\\AppData\\Local\\Temp/ipykernel_29504/3309096844.py\u001b[0m in \u001b[0;36m<module>\u001b[1;34m\u001b[0m\n\u001b[1;32m----> 1\u001b[1;33m \u001b[0msolve\u001b[0m\u001b[1;33m(\u001b[0m\u001b[1;36m8\u001b[0m\u001b[1;33m-\u001b[0m\u001b[0mm\u001b[0m\u001b[1;33m,\u001b[0m\u001b[0mpos\u001b[0m\u001b[1;33m)\u001b[0m\u001b[1;33m\u001b[0m\u001b[1;33m\u001b[0m\u001b[0m\n\u001b[0m",
      "\u001b[1;32m~\\AppData\\Local\\Temp/ipykernel_29504/3043319798.py\u001b[0m in \u001b[0;36msolve\u001b[1;34m(unplaced_queens, queens_pos)\u001b[0m\n\u001b[0;32m     41\u001b[0m             \u001b[0mtemp\u001b[0m \u001b[1;33m=\u001b[0m \u001b[0mrandom\u001b[0m\u001b[1;33m.\u001b[0m\u001b[0mchoice\u001b[0m\u001b[1;33m(\u001b[0m\u001b[0mavail_row_idx\u001b[0m\u001b[1;33m)\u001b[0m  \u001b[1;31m# Select a random row in the column to place the queen\u001b[0m\u001b[1;33m\u001b[0m\u001b[1;33m\u001b[0m\u001b[0m\n\u001b[0;32m     42\u001b[0m             \u001b[0mtemp_seqs\u001b[0m\u001b[1;33m[\u001b[0m\u001b[0mpos\u001b[0m\u001b[1;33m]\u001b[0m \u001b[1;33m=\u001b[0m \u001b[0mtemp\u001b[0m \u001b[1;31m# Place the queen on line temp of the column\u001b[0m\u001b[1;33m\u001b[0m\u001b[1;33m\u001b[0m\u001b[0m\n\u001b[1;32m---> 43\u001b[1;33m             \u001b[0mfrontier_priority_queue\u001b[0m\u001b[1;33m.\u001b[0m\u001b[0mappend\u001b[0m\u001b[1;33m(\u001b[0m\u001b[1;33m{\u001b[0m\u001b[1;34m'unplaced_queens'\u001b[0m\u001b[1;33m:\u001b[0m\u001b[0mtemp_seqs\u001b[0m\u001b[1;33m.\u001b[0m\u001b[0mcount\u001b[0m\u001b[1;33m(\u001b[0m\u001b[1;36m0\u001b[0m\u001b[1;33m)\u001b[0m\u001b[1;33m,\u001b[0m \u001b[1;34m'pairs'\u001b[0m\u001b[1;33m:\u001b[0m\u001b[0mattacked_queens_pairs\u001b[0m\u001b[1;33m(\u001b[0m\u001b[0mtemp_seqs\u001b[0m\u001b[1;33m)\u001b[0m\u001b[1;33m,\u001b[0m\u001b[1;34m'seqs'\u001b[0m\u001b[1;33m:\u001b[0m\u001b[0mtemp_seqs\u001b[0m\u001b[1;33m}\u001b[0m\u001b[1;33m)\u001b[0m\u001b[1;33m\u001b[0m\u001b[1;33m\u001b[0m\u001b[0m\n\u001b[0m\u001b[0;32m     44\u001b[0m             \u001b[1;31m# First, the sequences are sorted in the order of h(n) from small to large;\u001b[0m\u001b[1;33m\u001b[0m\u001b[1;33m\u001b[0m\u001b[1;33m\u001b[0m\u001b[0m\n\u001b[0;32m     45\u001b[0m     \u001b[1;31m#         if h(n) is the same, the sequences are sorted in the order of g(n) from small to large\u001b[0m\u001b[1;33m\u001b[0m\u001b[1;33m\u001b[0m\u001b[1;33m\u001b[0m\u001b[0m\n",
      "\u001b[1;32m~\\AppData\\Local\\Temp/ipykernel_29504/3855580234.py\u001b[0m in \u001b[0;36mattacked_queens_pairs\u001b[1;34m(seqs)\u001b[0m\n\u001b[0;32m     12\u001b[0m     \u001b[1;32mfor\u001b[0m \u001b[0mi\u001b[0m \u001b[1;32min\u001b[0m \u001b[0mrange\u001b[0m\u001b[1;33m(\u001b[0m\u001b[1;36m1\u001b[0m\u001b[1;33m,\u001b[0m \u001b[1;36m9\u001b[0m\u001b[1;33m)\u001b[0m\u001b[1;33m:\u001b[0m\u001b[1;33m\u001b[0m\u001b[1;33m\u001b[0m\u001b[0m\n\u001b[0;32m     13\u001b[0m         \u001b[1;32mif\u001b[0m \u001b[0mseqs\u001b[0m\u001b[1;33m[\u001b[0m\u001b[0mi\u001b[0m\u001b[1;33m-\u001b[0m\u001b[1;36m1\u001b[0m\u001b[1;33m]\u001b[0m \u001b[1;33m!=\u001b[0m \u001b[1;36m0\u001b[0m\u001b[1;33m:\u001b[0m \u001b[1;31m# An element of seqs is 0, which means that no queen should be placed in the corresponding chessboard column\u001b[0m\u001b[1;33m\u001b[0m\u001b[1;33m\u001b[0m\u001b[0m\n\u001b[1;32m---> 14\u001b[1;33m             \u001b[0ma\u001b[0m\u001b[1;33m[\u001b[0m\u001b[0mseqs\u001b[0m\u001b[1;33m[\u001b[0m\u001b[0mi\u001b[0m \u001b[1;33m-\u001b[0m \u001b[1;36m1\u001b[0m\u001b[1;33m]\u001b[0m\u001b[1;33m]\u001b[0m\u001b[1;33m[\u001b[0m\u001b[0mi\u001b[0m\u001b[1;33m]\u001b[0m \u001b[1;33m=\u001b[0m \u001b[1;36m1\u001b[0m  \u001b[1;31m# Generate the corresponding chessboard sequence, and place it in the order of the first chessboard column\u001b[0m\u001b[1;33m\u001b[0m\u001b[1;33m\u001b[0m\u001b[0m\n\u001b[0m\u001b[0;32m     15\u001b[0m \u001b[1;33m\u001b[0m\u001b[0m\n\u001b[0;32m     16\u001b[0m     \u001b[1;32mfor\u001b[0m \u001b[0mi\u001b[0m \u001b[1;32min\u001b[0m \u001b[0mrange\u001b[0m\u001b[1;33m(\u001b[0m\u001b[1;36m1\u001b[0m\u001b[1;33m,\u001b[0m \u001b[1;36m9\u001b[0m\u001b[1;33m)\u001b[0m\u001b[1;33m:\u001b[0m\u001b[1;33m\u001b[0m\u001b[1;33m\u001b[0m\u001b[0m\n",
      "\u001b[1;31mKeyboardInterrupt\u001b[0m: "
     ]
    }
   ],
   "source": [
    "solve(8-m,pos)"
   ]
  },
  {
   "cell_type": "code",
   "execution_count": null,
   "id": "78946e4d",
   "metadata": {},
   "outputs": [],
   "source": []
  }
 ],
 "metadata": {
  "kernelspec": {
   "display_name": "Python 3 (ipykernel)",
   "language": "python",
   "name": "python3"
  },
  "language_info": {
   "codemirror_mode": {
    "name": "ipython",
    "version": 3
   },
   "file_extension": ".py",
   "mimetype": "text/x-python",
   "name": "python",
   "nbconvert_exporter": "python",
   "pygments_lexer": "ipython3",
   "version": "3.9.6"
  }
 },
 "nbformat": 4,
 "nbformat_minor": 5
}
